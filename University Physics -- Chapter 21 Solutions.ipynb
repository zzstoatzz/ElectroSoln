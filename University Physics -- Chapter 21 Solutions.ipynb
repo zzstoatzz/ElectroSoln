{
 "cells": [
  {
   "cell_type": "markdown",
   "metadata": {},
   "source": [
    "<h2> Example 21.1 - Electric Force versus Gravitational Force </h2>\n",
    "\n",
    "Given the $ \\alpha $ particle with mass $ m_\\alpha = 6.64e\\text{-}27\\; kg$ and charge $ q = +2e = 3.2e\\text{-}19\\; C$ <br>\n",
    "compare the electric repulsion force with that of the gravitational attraction.\n",
    "\n",
    "<h3> Solution </h3>\n",
    "\n",
    "Assuming this comparison is made in a vacuum, we can directly apply Coulomb's Law of electric force (eqn 21.1)\n",
    "\n",
    "$$ F = \\dfrac{1}{4\\pi\\varepsilon_0}\\dfrac{q_1q_2}{r^2} $$ \n",
    "\n",
    "Noting that the charges of $q_1$ and $q_2$ are the same, using the standard value $k=\\dfrac{1}{4\\pi\\varepsilon_0} = 9e9$, and taking a unit length $r=1\\;m$... we obtain \n",
    "\n",
    "$$ F_e = 9e9\\dfrac{\\big({{3.2e\\text{-}19}}\\big)^2}{1^2} = 9.21e\\text{-}28\\; N$$\n",
    "\n",
    "Now applying Newton's Law of Gravitation with $G = 6.67e\\text{-}11$ with the same realization about identical mass and taking again unit length \n",
    "\n",
    "$$ F_g = 6.67e\\text{-}11 \\dfrac{\\big({6.64e\\text{-}27}\\big)^2}{1^2} = 2.941e\\text{-}63\\; N$$\n",
    "\n",
    "To compare, we now express these forces as a ratio:\n",
    "\n",
    "$$ \\dfrac{F_e}{F_g} = 3.1e\\text35 $$\n",
    "\n",
    "Which illustrates that electric force is much greater than gravitational force at a given $r$."
   ]
  },
  {
   "cell_type": "markdown",
   "metadata": {},
   "source": [
    "<h1> Chapter 21 Exercises </h1>"
   ]
  },
  {
   "cell_type": "markdown",
   "metadata": {},
   "source": [
    "<h2> Section 21.3 Coulomb's Law </h2>\n",
    "\n",
    "<h3> 21.1 ** </h3>\n",
    "\n",
    "Excess electrons are placed on a small lead sphere with mass $8.00\\; g$ so that its net charge is $-3.20e\\text{-}9\\;C$. <br><br>\n",
    "(a) Find the number of excess electrons on the sphere <br>\n",
    "(b) How many electrons are there per lead atom? $\\big($given ${MW}_{Pb} = 207 \\dfrac{g}{mol}$ and using $N_A = 6.02e23$ or atomic number of lead $= 82\\; \\big)$\n",
    "\n",
    "<h4> Solution </h4>\n",
    "\n",
    "\n",
    "<ul>\n",
    "<li> (a) Recall $$q_e = -1.6e\\text{-}19 \\dfrac{C}{e^{-}}$$\n",
    "\n",
    "By inspecting units or by stopping and thinking, we see that the number of excess electrons will be $\\dfrac{q_{net}}{q_e}$ which is $2.00e10$ in this case.\n",
    "</li>\n",
    "\n",
    "<li> (b) Using the given values, we can use some stoichiometry and apply Avogadro's number to obtain the number of lead atoms: <br>\n",
    "    \n",
    "    $$ \\dfrac{m_{Pb}}{{MW}_{Pb}}*N_A = 2.324e22$$\n",
    "    \n",
    "    which can solidfy conceptually as the fraction of a mole times the number of atoms inherently present in a mole. <br><br>\n",
    "    \n",
    "    Now we can divide the excess electrons from part (a) by our number of lead atoms to answer part (b) \n",
    "    $$ \\dfrac{excess\\;e^-}{atoms\\;lead} = 8.59e\\text{-}13 \\dfrac{excess\\; e^-}{atom\\;lead}$$\n",
    "</li>\n",
    "</ul>\n",
    "\n",
    "<h3> 21.5 * BIO </h3>\n",
    "\n",
    "Neurons are components of the nervous system of the body that transmit signals as electrical impulses travel along their length. These impulses propagate when charge suddenly rushes into and then out of a part of the neuron called an $\\textit{axon}$. Measurements have shown that, during the inflow part of this cycle, approximately 5.6e11 ${Na}^+$ per meter (each with charge +$e$) enter the axon. How many coulombs of charge enter a 1.5-cm length of the axon during this process?\n",
    "\n",
    "<h4> Solution </h4>\n",
    "\n",
    "The first realization must be that since we are dealing with sodium ions, each ion has not 11 electrons (the typical atomic number) but 10 electrons --  which induces the positive charge +$e$. Now, we use the measurement of $5.6e11 \\dfrac{ions}{m}$ to obtain $5.6e12 \\dfrac{electrons}{m}$.<br><br>\n",
    "\n",
    "Given the length $\\ell = 0.015\\; m$ we multiply $\\ell$ by the electrons per length we found above to obtain total electrons, from which point we can multiply the total electrons by the charge of 1 electron to obtain the total charge. \n",
    "\n",
    "$$ Total\\; Charge = 1.34e\\text{-}8\\;C $$\n",
    "\n",
    "<h3> 21.7 ** </h3>\n",
    "\n",
    "An average human weighs about $650\\;N$. If two such generic humans each carried $1.0$ coulomb of excess charge, one positive and one negative, how far apart would they have to be for the electric attraction to equal their respective 650-N weight?\n",
    "\n",
    "<h4> Solution </h4>\n",
    "\n",
    "Given this scenario (however strange), we can directly apply Coulomb's Law, setting the LHS equal to the weight $650\\;N$ and solving for $r$, where $\\lvert q_1 \\rvert = \\lvert{q_2}\\rvert = 1$ which gives \n",
    "\n",
    "$$ r = \\sqrt{\\dfrac{1}{4\\pi\\varepsilon_0(650\\;N)}} $$\n",
    "\n",
    "Upon plugging $\\dfrac{1}{4\\pi\\varepsilon_0} = 9e9$ and $q_1 q_2 = 1^2$ we obtain\n",
    "\n",
    "$$ r = 3721.04\\; m \\approx 3.7\\;km$$\n",
    "\n"
   ]
  }
 ],
 "metadata": {
  "kernelspec": {
   "display_name": "Python 3",
   "language": "python",
   "name": "python3"
  },
  "language_info": {
   "codemirror_mode": {
    "name": "ipython",
    "version": 3
   },
   "file_extension": ".py",
   "mimetype": "text/x-python",
   "name": "python",
   "nbconvert_exporter": "python",
   "pygments_lexer": "ipython3",
   "version": "3.6.4"
  }
 },
 "nbformat": 4,
 "nbformat_minor": 2
}
