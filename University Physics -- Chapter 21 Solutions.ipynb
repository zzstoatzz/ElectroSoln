{
 "cells": [
  {
   "cell_type": "raw",
   "metadata": {
    "hideCode": false,
    "hidePrompt": false
   },
   "source": [
    "\n",
    "<script>\n",
    "  function code_toggle() {\n",
    "    if (code_shown){\n",
    "      $('div.input').hide('500');\n",
    "      $('#toggleButton').val('Show Code')\n",
    "    } else {\n",
    "      $('div.input').show('500');\n",
    "      $('#toggleButton').val('Hide Code')\n",
    "    }\n",
    "    code_shown = !code_shown\n",
    "  }\n",
    "\n",
    "  $( document ).ready(function(){\n",
    "    code_shown=false;\n",
    "    $('div.input').hide()\n",
    "  });\n",
    "</script>\n",
    "<form action=\"javascript:code_toggle()\"><input type=\"submit\" id=\"toggleButton\" value=\"Show Code\"></form>"
   ]
  },
  {
   "cell_type": "markdown",
   "metadata": {
    "hideCode": false,
    "hidePrompt": false
   },
   "source": [
    "<h2> Example 21.1 - Electric Force versus Gravitational Force </h2>\n",
    "\n",
    "Given the $ \\alpha $ particle with mass $ m_\\alpha = 6.64e\\text{-}27\\; kg$ and charge $ q = +2e = 3.2e\\text{-}19\\; C$ <br>\n",
    "compare the electric repulsion force with that of the gravitational attraction.\n",
    "\n",
    "<h3> Solution </h3>\n",
    "\n",
    "Assuming this comparison is made in a vacuum, we can directly apply Coulomb's Law of electric force (eqn 21.1)\n",
    "\n",
    "$$ F = \\dfrac{1}{4\\pi\\varepsilon_0}\\dfrac{q_1q_2}{r^2} $$ \n",
    "\n",
    "Noting that the charges of $q_1$ and $q_2$ are the same, using the standard value $k=\\dfrac{1}{4\\pi\\varepsilon_0} = 9e9$, and taking a unit length $r=1\\;m$... we obtain \n",
    "\n",
    "$$ F_e = 9e9\\dfrac{\\big({{3.2e\\text{-}19}}\\big)^2}{1^2} = 9.21e\\text{-}28\\; N$$\n",
    "\n",
    "Now applying Newton's Law of Gravitation with $G = 6.67e\\text{-}11$ with the same realization about identical mass and taking again unit length \n",
    "\n",
    "$$ F_g = 6.67e\\text{-}11 \\dfrac{\\big({6.64e\\text{-}27}\\big)^2}{1^2} = 2.941e\\text{-}63\\; N$$\n",
    "\n",
    "To compare, we now express these forces as a ratio:\n",
    "\n",
    "$$ \\dfrac{F_e}{F_g} = 3.1e\\text35 $$\n",
    "\n",
    "Which illustrates that electric force is much greater than gravitational force at a given $r$."
   ]
  },
  {
   "cell_type": "markdown",
   "metadata": {
    "hideCode": false,
    "hidePrompt": false
   },
   "source": [
    "<h1> Chapter 21 Exercises </h1>"
   ]
  },
  {
   "cell_type": "markdown",
   "metadata": {
    "hideCode": false,
    "hidePrompt": false
   },
   "source": [
    "<h2> Section 21.3 Coulomb's Law </h2>\n",
    "\n",
    "<h3> 21.1 ** </h3>\n",
    "\n",
    "Excess electrons are placed on a small lead sphere with mass $8.00\\; g$ so that its net charge is $-3.20e\\text{-}9\\;C$. <br><br>\n",
    "(a) Find the number of excess electrons on the sphere <br>\n",
    "(b) How many electrons are there per lead atom? $\\big($given ${MW}_{Pb} = 207 \\dfrac{g}{mol}$ and using $N_A = 6.02e23$ or atomic number of lead $= 82\\; \\big)$\n",
    "\n",
    "<h4> Solution </h4>\n",
    "\n",
    "\n",
    "<ul>\n",
    "<li> (a) Recall $$q_e = -1.6e\\text{-}19 \\dfrac{C}{e^{-}}$$\n",
    "\n",
    "By inspecting units or by stopping and thinking, we see that the number of excess electrons will be $\\dfrac{q_{net}}{q_e}$ which is $2.00e10$ in this case.\n",
    "<hr>\n",
    "</li>\n",
    "\n",
    "<li> (b) Using the given values, we can use some stoichiometry and apply Avogadro's number to obtain the number of lead atoms: <br>\n",
    "    \n",
    "    $$ \\dfrac{m_{Pb}}{{MW}_{Pb}}*N_A = 2.324e22$$\n",
    "    \n",
    "    which can solidfy conceptually as the fraction of a mole times the number of atoms inherently present in a mole. <br><br>\n",
    "    \n",
    "    Now we can divide the excess electrons from part (a) by our number of lead atoms to answer part (b) \n",
    "    $$ \\dfrac{excess\\;e^-}{atoms\\;lead} = 8.59e\\text{-}13 \\dfrac{excess\\; e^-}{atom\\;lead}$$\n",
    "</li>\n",
    "</ul>\n",
    "\n",
    "<hr><hr>\n",
    "\n",
    "<h3> 21.5 * BIO </h3>\n",
    "\n",
    "Neurons are components of the nervous system of the body that transmit signals as electrical impulses travel along their length. These impulses propagate when charge suddenly rushes into and then out of a part of the neuron called an $\\textit{axon}$. Measurements have shown that, during the inflow part of this cycle, approximately 5.6e11 ${Na}^+$ per meter (each with charge +$e$) enter the axon. How many coulombs of charge enter a 1.5-cm length of the axon during this process?\n",
    "\n",
    "<h4> Solution </h4>\n",
    "\n",
    "The first realization must be that since we are dealing with sodium ions, each ion has not 11 electrons (the typical atomic number) but 10 electrons --  which induces the positive charge +$e$. Now, we use the measurement of $5.6e11 \\dfrac{ions}{m}$ to obtain $5.6e12 \\dfrac{electrons}{m}$.<br><br>\n",
    "\n",
    "Given the length $\\ell = 0.015\\; m$ we multiply $\\ell$ by the electrons per length we found above to obtain total electrons, from which point we can multiply the total electrons by the charge of 1 electron to obtain the total charge. \n",
    "\n",
    "$$ Total\\; Charge = 1.34e\\text{-}8\\;C $$\n",
    "\n",
    "<hr><hr>\n",
    "\n",
    "<h3> 21.7 ** </h3>\n",
    "\n",
    "An average human weighs about $650\\;N$. If two such generic humans each carried $1.0$ coulomb of excess charge, one positive and one negative, how far apart would they have to be for the electric attraction to equal their respective 650-N weight?\n",
    "\n",
    "<h4> Solution </h4>\n",
    "\n",
    "Given this scenario (however strange), we can directly apply Coulomb's Law, setting the LHS equal to the weight $650\\;N$ and solving for $r$, where $\\lvert q_1 \\rvert = \\lvert{q_2}\\rvert = 1$ which gives \n",
    "\n",
    "$$ r = \\sqrt{\\dfrac{1}{4\\pi\\varepsilon_0(650\\;N)}} $$\n",
    "\n",
    "Upon plugging $\\dfrac{1}{4\\pi\\varepsilon_0} = 9e9$ and $q_1 q_2 = 1^2$ we obtain\n",
    "\n",
    "$$ r = 3721.04\\; m \\approx 3.7\\;km$$\n",
    "\n",
    "<hr><hr>\n",
    "\n",
    "<h3> 21.9 ** </h3>\n",
    "\n",
    "Two small plastic spheres are given positive electrical charges. When they are $15.0\\;cm$ apart, the repulsive force between them has magnitude $0.220\\;N$. What is the charge on each sphere if (a) the two charges are equal (b) if one sphere has four times the charge of the other?\n",
    "\n",
    "<h4> Solution </h4>\n",
    "\n",
    "<ul>\n",
    "    <li> (a) Taking the first case where $q_1 = q_2$ we may set up Coulomb's Law as\n",
    "        \n",
    "        $$ 0.220 = \\dfrac{1}{4\\pi\\varepsilon_0}\\dfrac{q^2}{(0.15)^2} $$\n",
    "        \n",
    "        Solving for q, we obtain $q = 7.416e\\text{-}7\\;C$\n",
    "    </li>\n",
    "    <hr>\n",
    "    <li> (b) In this case $q_1 = 4q_2$, so we can substitute this relation into Coulomb's Law:\n",
    "    \n",
    "    $$ 0.220 = \\dfrac{1}{4\\pi\\varepsilon_0}\\dfrac{4q_2^2}{(0.15)^2} $$\n",
    "    \n",
    "    which we solve, giving $q_2 = 3.708e\\text{-}7\\;C$. Now we find $q_1$ given the relationship between the charges \n",
    "    \n",
    "    $$ q_1 = 4*q_2 = 1.483e\\text{-6}\\;C$$\n",
    "    </li>\n",
    "</ul>\n",
    "\n",
    "<hr><hr>\n",
    "\n",
    "<h3> 21.11 ** </h3>\n",
    "\n",
    "Two very small 8.55-g spheres, $15.0\\;cm$ apart from center to center, are charged by adding equal numbers of electrons to each of them. Disregarding all other forces, how many electrons would you have to add to each sphere so that the two spheres accelerate at $25.0g$ when released? Which way will they accelerate?\n",
    "\n",
    "<h4> Solution </h4>\n",
    "\n",
    "\n",
    "Using the target acceleration $a = 25.0*g\\; \\dfrac{m}{s^2}$ we can obtain the LHS of Coulomb's Law by applying Newton's Second Law: \n",
    "\n",
    "$$ F_e = m a = (0.00855)(25.0*9.8) = 2.09475\\;N = \\dfrac{1}{4\\pi\\varepsilon_0}\\dfrac{q^2}{(0.15)^2} $$\n",
    "\n",
    "Which we can then solve for $q = 2.288e\\text{-}6$, which is net charge per sphere. Dividing by the charge of an electron $q_e$, we obtain the number of electrons necessary to observe this scenario, namely...\n",
    "\n",
    "$$ number\\;of\\;electrons = 1.428e13\\;electrons $$\n",
    "\n",
    "\n",
    "<hr>\n",
    "\n",
    "Due to the net charge on each sphere being negative (like charges repel), they will accelerate away from one another.\n",
    "\n",
    "<hr><hr>"
   ]
  },
  {
   "cell_type": "markdown",
   "metadata": {
    "hideCode": false,
    "hidePrompt": false
   },
   "source": [
    "<h3> 21.13 * </h3>\n",
    "\n",
    "In an experiment in space, one proton is held fixed and another proton is released from rest a distance of $2.50\\;mm$ away. <br>\n",
    "(a) What is the initial acceleration of the proton after it is released? <br>\n",
    "(b) Sketch qualitatively acceleration-time and velocity-time graphs of the released proton's motion.\n",
    "\n",
    "<h4> Solution </h4>\n",
    "\n",
    "Recall $m_p = 1.673e\\text{-}27\\;kg$\n",
    "<ul>\n",
    "    <li>\n",
    "        (a) We can directly apply Coulomb's Law to obtain the force \n",
    "        \n",
    "        $$ F_e = 9e9\\:\\dfrac{(+e)^2}{(.0025)^2} = 3.696e\\text{-}23\\;N $$ \n",
    "        \n",
    "        to which we apply Newton's second law\n",
    "        \n",
    "        $$ a = \\dfrac{F_e}{m_p} = 2.21e4\\;\\dfrac{m}{s^2} $$\n",
    "    </li>\n",
    "    <hr>\n",
    "    <li>\n",
    "        (b) To obtain a qualitative picture of the proton's motion with time $t$, we think of what the force $F_e$ is dependent upon. Inspecting Coulomb's Law, we see that values except $r$ are constant w.r.t time. Due to the form of Coulomb's Law, we can say that $a \\propto \\dfrac{1}{t^2} $ and that $v \\propto \\dfrac{1}{t}$ ... giving the plot below\n",
    "    </li>\n",
    " </ul>"
   ]
  },
  {
   "cell_type": "code",
   "execution_count": 3,
   "metadata": {
    "hideCode": false,
    "hidePrompt": false,
    "scrolled": false
   },
   "outputs": [
    {
     "data": {
      "text/html": [
       "<iframe id=\"igraph\" scrolling=\"no\" style=\"border:none;\" seamless=\"seamless\" src=\"https://plot.ly/~zzstoatzz/2.embed\" height=\"525px\" width=\"100%\"></iframe>"
      ],
      "text/plain": [
       "<plotly.tools.PlotlyDisplay object>"
      ]
     },
     "execution_count": 3,
     "metadata": {},
     "output_type": "execute_result"
    }
   ],
   "source": [
    "import plotly.plotly as py\n",
    "import plotly.graph_objs as go\n",
    "\n",
    "import numpy as np\n",
    "\n",
    "x = np.arange(.01,5,.001)\n",
    "\n",
    "accel = go.Scatter(\n",
    "    x=x,\n",
    "    y=1-1/x**2,\n",
    "    name=\"accel\"\n",
    ")\n",
    "\n",
    "vel = go.Scatter(\n",
    "    x=x,\n",
    "    y=1-1/x,\n",
    "    name=\"vel\"\n",
    ")\n",
    "\n",
    "data = [accel, vel]\n",
    "layout = go.Layout(\n",
    "    title='Motion of Proton after Release',\n",
    "    xaxis=dict(\n",
    "        title='time',\n",
    "        range=[0,5],\n",
    "        showgrid=False,\n",
    "        zeroline=False,\n",
    "        showline=False,\n",
    "        autotick=True,\n",
    "        ticks='',\n",
    "        showticklabels=False\n",
    "    ),\n",
    "    yaxis=dict(\n",
    "        range=[0,1],\n",
    "        showgrid=False,\n",
    "        zeroline=True,\n",
    "        showline=False,\n",
    "        autotick=True,\n",
    "        ticks='',\n",
    "        showticklabels=False\n",
    "    )\n",
    ")\n",
    "\n",
    "fig = go.Figure(data=data, layout=layout)\n",
    "py.iplot(fig, filename='21.13')"
   ]
  },
  {
   "cell_type": "markdown",
   "metadata": {
    "hideCode": false,
    "hidePrompt": false
   },
   "source": [
    "<h3> 21.15 ** </h3>\n",
    "\n",
    "Three point charges are arranged on a line.Charge $q_3 = \\text{+}5.00\\;nC$ and is at the origin. Charge $q_2 = \\text{-}3.00\\;nC$ and is at $ x = \\text{+}4.00\\;cm $. Charge $q_1$ is at $x = \\text{+}2.00\\;cm$. What is $q_1$ (magnitude and sign) if the net force on $q_3$ is zero?"
   ]
  },
  {
   "cell_type": "code",
   "execution_count": 19,
   "metadata": {
    "hideCode": false,
    "hidePrompt": false
   },
   "outputs": [
    {
     "data": {
      "text/html": [
       "<iframe id=\"igraph\" scrolling=\"no\" style=\"border:none;\" seamless=\"seamless\" src=\"https://plot.ly/~zzstoatzz/6.embed\" height=\"525px\" width=\"100%\"></iframe>"
      ],
      "text/plain": [
       "<plotly.tools.PlotlyDisplay object>"
      ]
     },
     "execution_count": 19,
     "metadata": {},
     "output_type": "execute_result"
    }
   ],
   "source": [
    "x = [0,2,4]\n",
    "y = [0,0,0]\n",
    "\n",
    "line = go.Scatter(\n",
    "    x = x,\n",
    "    y = y,\n",
    "    mode='lines+markers+text',\n",
    "    text=['$q_3 = 5\\;nC$','$q_1 =\\;?$','$q_2 = -3\\;nC $'],\n",
    "    textposition = 'bottom'\n",
    ")\n",
    "\n",
    "data = [line]\n",
    "layout = go.Layout(\n",
    "    xaxis=dict(\n",
    "        title='distance (cm)',\n",
    "        showgrid=False,\n",
    "        zeroline=False,\n",
    "        showline=False,\n",
    "        autotick=True,\n",
    "        ticks='',\n",
    "        showticklabels=True\n",
    "    ),\n",
    "    yaxis=dict(\n",
    "        showgrid=False,\n",
    "        zeroline=False,\n",
    "        showline=False,\n",
    "        autotick=True,\n",
    "        ticks='',\n",
    "        showticklabels=False\n",
    "    )\n",
    ")\n",
    "\n",
    "fig = go.Figure(data=data, layout=layout)\n",
    "py.iplot(fig, filename='21.15')"
   ]
  },
  {
   "cell_type": "markdown",
   "metadata": {
    "hideCode": false,
    "hidePrompt": false
   },
   "source": [
    "<h4> Solution </h4>\n",
    "\n",
    "Given the information that $q_3$ experiences no net force, which can be expressed as \n",
    "\n",
    "$$ F_{13} + F_{23} = 0 \\implies F_{13} = -F_{23} $$\n",
    "\n",
    "We can express each force using Coulomb's Law, then invoke the Superposition princile and the above relation (canceling terms) to obtain:\n",
    "\n",
    "$$ \\dfrac{q_1}{r^2_{13}} = -\\dfrac{q_2}{r^2_{23}} \\implies q_1 = -q_2\\dfrac{r^2_{13}}{r^2_{23}} = 7.5e\\text{-}10\\;C $$\n",
    "\n",
    "This charge is positive and therefore it creates a field radially outwards from its position.\n",
    "\n",
    "$\\textbf{NOTE}$ that because $q_2$ is negative, the negative sign from the above relation cancels out.\n"
   ]
  }
 ],
 "metadata": {
  "hide_code_all_hidden": false,
  "kernelspec": {
   "display_name": "Python 3",
   "language": "python",
   "name": "python3"
  },
  "language_info": {
   "codemirror_mode": {
    "name": "ipython",
    "version": 3
   },
   "file_extension": ".py",
   "mimetype": "text/x-python",
   "name": "python",
   "nbconvert_exporter": "python",
   "pygments_lexer": "ipython3",
   "version": "3.6.4"
  }
 },
 "nbformat": 4,
 "nbformat_minor": 2
}
